{
 "cells": [
  {
   "cell_type": "markdown",
   "metadata": {},
   "source": [
    "# Proyecto\n",
    "Diego Fernando Valle Morales\n",
    "Carné: 20003022"
   ]
  },
  {
   "cell_type": "code",
   "execution_count": 69,
   "metadata": {},
   "outputs": [
    {
     "data": {
      "text/plain": [
       "'2.2.2'"
      ]
     },
     "execution_count": 69,
     "metadata": {},
     "output_type": "execute_result"
    }
   ],
   "source": [
    "import numpy as np\n",
    "import pandas as pd\n",
    "import matplotlib.pyplot as plt\n",
    "from sklearn.model_selection import train_test_split\n",
    "from sklearn import tree\n",
    "from sklearn.metrics import accuracy_score\n",
    "from sklearn.svm import SVC\n",
    "from sklearn.naive_bayes import GaussianNB, BernoulliNB, MultinomialNB\n",
    "\n",
    "import collections \n",
    "import numpy as np\n",
    "from math import sqrt, exp\n",
    "\n",
    "import time\n",
    "import math\n",
    "import tensorflow as tf\n",
    "\n",
    "import tensorboard\n",
    "%reload_ext tensorboard\n",
    "tensorboard.__version__\n"
   ]
  },
  {
   "cell_type": "code",
   "execution_count": 73,
   "metadata": {},
   "outputs": [
    {
     "name": "stdout",
     "output_type": "stream",
     "text": [
      "Enabled compatitility to tf1.x\n"
     ]
    }
   ],
   "source": [
    "if tf.__version__.startswith(\"2.\"):\n",
    "  import tensorflow.compat.v1 as tf\n",
    "  tf.compat.v1.disable_v2_behavior()\n",
    "  tf.compat.v1.disable_eager_execution()\n",
    "  print(\"Enabled compatitility to tf1.x\")"
   ]
  },
  {
   "cell_type": "code",
   "execution_count": 75,
   "metadata": {},
   "outputs": [],
   "source": [
    "from sklearn import metrics"
   ]
  },
  {
   "cell_type": "markdown",
   "metadata": {},
   "source": [
    "Se inicia cargando el set de datos."
   ]
  },
  {
   "cell_type": "code",
   "execution_count": 3,
   "metadata": {},
   "outputs": [
    {
     "data": {
      "text/html": [
       "<div>\n",
       "<style scoped>\n",
       "    .dataframe tbody tr th:only-of-type {\n",
       "        vertical-align: middle;\n",
       "    }\n",
       "\n",
       "    .dataframe tbody tr th {\n",
       "        vertical-align: top;\n",
       "    }\n",
       "\n",
       "    .dataframe thead th {\n",
       "        text-align: right;\n",
       "    }\n",
       "</style>\n",
       "<table border=\"1\" class=\"dataframe\">\n",
       "  <thead>\n",
       "    <tr style=\"text-align: right;\">\n",
       "      <th></th>\n",
       "      <th>PassengerId</th>\n",
       "      <th>Name</th>\n",
       "      <th>Age</th>\n",
       "      <th>SibSp</th>\n",
       "      <th>Parch</th>\n",
       "      <th>Ticket</th>\n",
       "      <th>Fare</th>\n",
       "      <th>Cabin</th>\n",
       "      <th>Embarked</th>\n",
       "      <th>passenger_class</th>\n",
       "      <th>passenger_sex</th>\n",
       "      <th>passenger_survived</th>\n",
       "    </tr>\n",
       "  </thead>\n",
       "  <tbody>\n",
       "    <tr>\n",
       "      <td>0</td>\n",
       "      <td>1</td>\n",
       "      <td>Braund, Mr. Owen Harris</td>\n",
       "      <td>22.0</td>\n",
       "      <td>1</td>\n",
       "      <td>0</td>\n",
       "      <td>A/5 21171</td>\n",
       "      <td>7.2500</td>\n",
       "      <td>NaN</td>\n",
       "      <td>S</td>\n",
       "      <td>Lower</td>\n",
       "      <td>M</td>\n",
       "      <td>N</td>\n",
       "    </tr>\n",
       "    <tr>\n",
       "      <td>1</td>\n",
       "      <td>2</td>\n",
       "      <td>Cumings, Mrs. John Bradley (Florence Briggs Th...</td>\n",
       "      <td>38.0</td>\n",
       "      <td>1</td>\n",
       "      <td>0</td>\n",
       "      <td>PC 17599</td>\n",
       "      <td>71.2833</td>\n",
       "      <td>C85</td>\n",
       "      <td>C</td>\n",
       "      <td>Upper</td>\n",
       "      <td>F</td>\n",
       "      <td>Y</td>\n",
       "    </tr>\n",
       "    <tr>\n",
       "      <td>2</td>\n",
       "      <td>3</td>\n",
       "      <td>Heikkinen, Miss. Laina</td>\n",
       "      <td>26.0</td>\n",
       "      <td>0</td>\n",
       "      <td>0</td>\n",
       "      <td>STON/O2. 3101282</td>\n",
       "      <td>7.9250</td>\n",
       "      <td>NaN</td>\n",
       "      <td>S</td>\n",
       "      <td>Lower</td>\n",
       "      <td>F</td>\n",
       "      <td>Y</td>\n",
       "    </tr>\n",
       "    <tr>\n",
       "      <td>3</td>\n",
       "      <td>4</td>\n",
       "      <td>Futrelle, Mrs. Jacques Heath (Lily May Peel)</td>\n",
       "      <td>35.0</td>\n",
       "      <td>1</td>\n",
       "      <td>0</td>\n",
       "      <td>113803</td>\n",
       "      <td>53.1000</td>\n",
       "      <td>C123</td>\n",
       "      <td>S</td>\n",
       "      <td>Upper</td>\n",
       "      <td>F</td>\n",
       "      <td>Y</td>\n",
       "    </tr>\n",
       "    <tr>\n",
       "      <td>4</td>\n",
       "      <td>5</td>\n",
       "      <td>Allen, Mr. William Henry</td>\n",
       "      <td>35.0</td>\n",
       "      <td>0</td>\n",
       "      <td>0</td>\n",
       "      <td>373450</td>\n",
       "      <td>8.0500</td>\n",
       "      <td>NaN</td>\n",
       "      <td>S</td>\n",
       "      <td>Lower</td>\n",
       "      <td>M</td>\n",
       "      <td>N</td>\n",
       "    </tr>\n",
       "  </tbody>\n",
       "</table>\n",
       "</div>"
      ],
      "text/plain": [
       "   PassengerId                                               Name   Age  \\\n",
       "0            1                            Braund, Mr. Owen Harris  22.0   \n",
       "1            2  Cumings, Mrs. John Bradley (Florence Briggs Th...  38.0   \n",
       "2            3                             Heikkinen, Miss. Laina  26.0   \n",
       "3            4       Futrelle, Mrs. Jacques Heath (Lily May Peel)  35.0   \n",
       "4            5                           Allen, Mr. William Henry  35.0   \n",
       "\n",
       "   SibSp  Parch            Ticket     Fare Cabin Embarked passenger_class  \\\n",
       "0      1      0         A/5 21171   7.2500   NaN        S           Lower   \n",
       "1      1      0          PC 17599  71.2833   C85        C           Upper   \n",
       "2      0      0  STON/O2. 3101282   7.9250   NaN        S           Lower   \n",
       "3      1      0            113803  53.1000  C123        S           Upper   \n",
       "4      0      0            373450   8.0500   NaN        S           Lower   \n",
       "\n",
       "  passenger_sex passenger_survived  \n",
       "0             M                  N  \n",
       "1             F                  Y  \n",
       "2             F                  Y  \n",
       "3             F                  Y  \n",
       "4             M                  N  "
      ]
     },
     "execution_count": 3,
     "metadata": {},
     "output_type": "execute_result"
    }
   ],
   "source": [
    "setDatosTitanic= pd.read_csv(\"data_titanic_proyecto.csv\")\n",
    "setDatosTitanic.head()"
   ]
  },
  {
   "cell_type": "markdown",
   "metadata": {},
   "source": [
    "#### Analisis de los datos"
   ]
  },
  {
   "cell_type": "code",
   "execution_count": 4,
   "metadata": {},
   "outputs": [
    {
     "data": {
      "text/plain": [
       "PassengerId             0\n",
       "Name                    0\n",
       "Age                   177\n",
       "SibSp                   0\n",
       "Parch                   0\n",
       "Ticket                  0\n",
       "Fare                    0\n",
       "Cabin                 687\n",
       "Embarked                2\n",
       "passenger_class         0\n",
       "passenger_sex           0\n",
       "passenger_survived      0\n",
       "dtype: int64"
      ]
     },
     "execution_count": 4,
     "metadata": {},
     "output_type": "execute_result"
    }
   ],
   "source": [
    "setDatosTitanic.isnull().sum()"
   ]
  },
  {
   "cell_type": "code",
   "execution_count": 5,
   "metadata": {},
   "outputs": [
    {
     "data": {
      "text/plain": [
       "PassengerId             int64\n",
       "Name                   object\n",
       "Age                   float64\n",
       "SibSp                   int64\n",
       "Parch                   int64\n",
       "Ticket                 object\n",
       "Fare                  float64\n",
       "Cabin                  object\n",
       "Embarked               object\n",
       "passenger_class        object\n",
       "passenger_sex          object\n",
       "passenger_survived     object\n",
       "dtype: object"
      ]
     },
     "execution_count": 5,
     "metadata": {},
     "output_type": "execute_result"
    }
   ],
   "source": [
    "setDatosTitanic.dtypes"
   ]
  },
  {
   "cell_type": "code",
   "execution_count": 6,
   "metadata": {},
   "outputs": [
    {
     "data": {
      "text/plain": [
       "array(['Lower', 'Upper', 'Middle'], dtype=object)"
      ]
     },
     "execution_count": 6,
     "metadata": {},
     "output_type": "execute_result"
    }
   ],
   "source": [
    "setDatosTitanic[\"passenger_class\"].unique()"
   ]
  },
  {
   "cell_type": "code",
   "execution_count": 7,
   "metadata": {},
   "outputs": [
    {
     "data": {
      "text/plain": [
       "array(['S', 'C', 'Q', nan], dtype=object)"
      ]
     },
     "execution_count": 7,
     "metadata": {},
     "output_type": "execute_result"
    }
   ],
   "source": [
    "setDatosTitanic[\"Embarked\"].unique()"
   ]
  },
  {
   "cell_type": "code",
   "execution_count": 8,
   "metadata": {},
   "outputs": [
    {
     "data": {
      "text/plain": [
       "array(['N', 'Y'], dtype=object)"
      ]
     },
     "execution_count": 8,
     "metadata": {},
     "output_type": "execute_result"
    }
   ],
   "source": [
    "setDatosTitanic[\"passenger_survived\"].unique()"
   ]
  },
  {
   "cell_type": "code",
   "execution_count": 9,
   "metadata": {},
   "outputs": [
    {
     "data": {
      "text/plain": [
       "array(['M', 'F'], dtype=object)"
      ]
     },
     "execution_count": 9,
     "metadata": {},
     "output_type": "execute_result"
    }
   ],
   "source": [
    "setDatosTitanic[\"passenger_sex\"].unique()"
   ]
  },
  {
   "cell_type": "markdown",
   "metadata": {},
   "source": [
    "Convertiremos el tipo de los datos para que sea más manipulable"
   ]
  },
  {
   "cell_type": "code",
   "execution_count": 10,
   "metadata": {},
   "outputs": [
    {
     "data": {
      "text/html": [
       "<div>\n",
       "<style scoped>\n",
       "    .dataframe tbody tr th:only-of-type {\n",
       "        vertical-align: middle;\n",
       "    }\n",
       "\n",
       "    .dataframe tbody tr th {\n",
       "        vertical-align: top;\n",
       "    }\n",
       "\n",
       "    .dataframe thead th {\n",
       "        text-align: right;\n",
       "    }\n",
       "</style>\n",
       "<table border=\"1\" class=\"dataframe\">\n",
       "  <thead>\n",
       "    <tr style=\"text-align: right;\">\n",
       "      <th></th>\n",
       "      <th>PassengerId</th>\n",
       "      <th>Age</th>\n",
       "      <th>SibSp</th>\n",
       "      <th>Parch</th>\n",
       "      <th>Ticket</th>\n",
       "      <th>Fare</th>\n",
       "      <th>Embarked</th>\n",
       "      <th>passenger_class</th>\n",
       "      <th>passenger_sex</th>\n",
       "      <th>passenger_survived</th>\n",
       "    </tr>\n",
       "  </thead>\n",
       "  <tbody>\n",
       "    <tr>\n",
       "      <td>0</td>\n",
       "      <td>1</td>\n",
       "      <td>22.0</td>\n",
       "      <td>1</td>\n",
       "      <td>0</td>\n",
       "      <td>523</td>\n",
       "      <td>7.250000</td>\n",
       "      <td>2</td>\n",
       "      <td>0</td>\n",
       "      <td>1</td>\n",
       "      <td>0</td>\n",
       "    </tr>\n",
       "    <tr>\n",
       "      <td>1</td>\n",
       "      <td>2</td>\n",
       "      <td>38.0</td>\n",
       "      <td>1</td>\n",
       "      <td>0</td>\n",
       "      <td>596</td>\n",
       "      <td>71.283302</td>\n",
       "      <td>0</td>\n",
       "      <td>2</td>\n",
       "      <td>0</td>\n",
       "      <td>1</td>\n",
       "    </tr>\n",
       "    <tr>\n",
       "      <td>2</td>\n",
       "      <td>3</td>\n",
       "      <td>26.0</td>\n",
       "      <td>0</td>\n",
       "      <td>0</td>\n",
       "      <td>669</td>\n",
       "      <td>7.925000</td>\n",
       "      <td>2</td>\n",
       "      <td>0</td>\n",
       "      <td>0</td>\n",
       "      <td>1</td>\n",
       "    </tr>\n",
       "    <tr>\n",
       "      <td>3</td>\n",
       "      <td>4</td>\n",
       "      <td>35.0</td>\n",
       "      <td>1</td>\n",
       "      <td>0</td>\n",
       "      <td>49</td>\n",
       "      <td>53.099998</td>\n",
       "      <td>2</td>\n",
       "      <td>2</td>\n",
       "      <td>0</td>\n",
       "      <td>1</td>\n",
       "    </tr>\n",
       "    <tr>\n",
       "      <td>4</td>\n",
       "      <td>5</td>\n",
       "      <td>35.0</td>\n",
       "      <td>0</td>\n",
       "      <td>0</td>\n",
       "      <td>472</td>\n",
       "      <td>8.050000</td>\n",
       "      <td>2</td>\n",
       "      <td>0</td>\n",
       "      <td>1</td>\n",
       "      <td>0</td>\n",
       "    </tr>\n",
       "  </tbody>\n",
       "</table>\n",
       "</div>"
      ],
      "text/plain": [
       "   PassengerId   Age  SibSp  Parch  Ticket       Fare  Embarked  \\\n",
       "0            1  22.0      1      0     523   7.250000         2   \n",
       "1            2  38.0      1      0     596  71.283302         0   \n",
       "2            3  26.0      0      0     669   7.925000         2   \n",
       "3            4  35.0      1      0      49  53.099998         2   \n",
       "4            5  35.0      0      0     472   8.050000         2   \n",
       "\n",
       "   passenger_class  passenger_sex  passenger_survived  \n",
       "0                0              1                   0  \n",
       "1                2              0                   1  \n",
       "2                0              0                   1  \n",
       "3                2              0                   1  \n",
       "4                0              1                   0  "
      ]
     },
     "execution_count": 10,
     "metadata": {},
     "output_type": "execute_result"
    }
   ],
   "source": [
    "setDatosTitanic[\"Age\"] = setDatosTitanic['Age'].astype('float32')\n",
    "setDatosTitanic[\"Fare\"] = setDatosTitanic['Fare'].astype('float32')\n",
    "setDatosTitanic[\"Age\"].fillna(setDatosTitanic[\"Age\"].median(skipna=True), inplace=True)\n",
    "\n",
    "setDatosTitanic[\"Ticket\"] = setDatosTitanic['Ticket'].astype('category').cat.codes\n",
    "setDatosTitanic[\"Embarked\"] = setDatosTitanic['Embarked'].astype('category').cat.codes\n",
    "setDatosTitanic[\"passenger_class\"] = setDatosTitanic['passenger_class'].astype('category').cat.codes\n",
    "setDatosTitanic[\"passenger_sex\"] = setDatosTitanic['passenger_sex'].astype('category').cat.codes\n",
    "setDatosTitanic[\"passenger_survived\"] = setDatosTitanic['passenger_survived'].astype('category').cat.codes\n",
    "\n",
    "setDatosTitanic.drop('Name', axis = 1, inplace = True)\n",
    "setDatosTitanic.drop('Cabin', axis = 1, inplace = True)\n",
    "setDatosTitanic.head()"
   ]
  },
  {
   "cell_type": "markdown",
   "metadata": {},
   "source": [
    "Volvemos a verificar si hay datos nulos"
   ]
  },
  {
   "cell_type": "code",
   "execution_count": 11,
   "metadata": {},
   "outputs": [
    {
     "data": {
      "text/plain": [
       "PassengerId           0\n",
       "Age                   0\n",
       "SibSp                 0\n",
       "Parch                 0\n",
       "Ticket                0\n",
       "Fare                  0\n",
       "Embarked              0\n",
       "passenger_class       0\n",
       "passenger_sex         0\n",
       "passenger_survived    0\n",
       "dtype: int64"
      ]
     },
     "execution_count": 11,
     "metadata": {},
     "output_type": "execute_result"
    }
   ],
   "source": [
    "setDatosTitanic.isnull().sum()"
   ]
  },
  {
   "cell_type": "code",
   "execution_count": 12,
   "metadata": {},
   "outputs": [
    {
     "data": {
      "text/html": [
       "<div>\n",
       "<style scoped>\n",
       "    .dataframe tbody tr th:only-of-type {\n",
       "        vertical-align: middle;\n",
       "    }\n",
       "\n",
       "    .dataframe tbody tr th {\n",
       "        vertical-align: top;\n",
       "    }\n",
       "\n",
       "    .dataframe thead th {\n",
       "        text-align: right;\n",
       "    }\n",
       "</style>\n",
       "<table border=\"1\" class=\"dataframe\">\n",
       "  <thead>\n",
       "    <tr style=\"text-align: right;\">\n",
       "      <th></th>\n",
       "      <th>PassengerId</th>\n",
       "      <th>Age</th>\n",
       "      <th>SibSp</th>\n",
       "      <th>Parch</th>\n",
       "      <th>Ticket</th>\n",
       "      <th>Fare</th>\n",
       "      <th>Embarked</th>\n",
       "      <th>passenger_class</th>\n",
       "      <th>passenger_sex</th>\n",
       "      <th>passenger_survived</th>\n",
       "    </tr>\n",
       "  </thead>\n",
       "  <tbody>\n",
       "    <tr>\n",
       "      <td>count</td>\n",
       "      <td>891.000000</td>\n",
       "      <td>891.000000</td>\n",
       "      <td>891.000000</td>\n",
       "      <td>891.000000</td>\n",
       "      <td>891.000000</td>\n",
       "      <td>891.000000</td>\n",
       "      <td>891.000000</td>\n",
       "      <td>891.000000</td>\n",
       "      <td>891.000000</td>\n",
       "      <td>891.000000</td>\n",
       "    </tr>\n",
       "    <tr>\n",
       "      <td>mean</td>\n",
       "      <td>446.000000</td>\n",
       "      <td>29.361582</td>\n",
       "      <td>0.523008</td>\n",
       "      <td>0.381594</td>\n",
       "      <td>338.528620</td>\n",
       "      <td>32.204247</td>\n",
       "      <td>1.529742</td>\n",
       "      <td>0.691358</td>\n",
       "      <td>0.647587</td>\n",
       "      <td>0.383838</td>\n",
       "    </tr>\n",
       "    <tr>\n",
       "      <td>std</td>\n",
       "      <td>257.353842</td>\n",
       "      <td>13.019696</td>\n",
       "      <td>1.102743</td>\n",
       "      <td>0.806057</td>\n",
       "      <td>200.850657</td>\n",
       "      <td>49.693409</td>\n",
       "      <td>0.800254</td>\n",
       "      <td>0.836071</td>\n",
       "      <td>0.477990</td>\n",
       "      <td>0.486592</td>\n",
       "    </tr>\n",
       "    <tr>\n",
       "      <td>min</td>\n",
       "      <td>1.000000</td>\n",
       "      <td>0.420000</td>\n",
       "      <td>0.000000</td>\n",
       "      <td>0.000000</td>\n",
       "      <td>0.000000</td>\n",
       "      <td>0.000000</td>\n",
       "      <td>-1.000000</td>\n",
       "      <td>0.000000</td>\n",
       "      <td>0.000000</td>\n",
       "      <td>0.000000</td>\n",
       "    </tr>\n",
       "    <tr>\n",
       "      <td>25%</td>\n",
       "      <td>223.500000</td>\n",
       "      <td>22.000000</td>\n",
       "      <td>0.000000</td>\n",
       "      <td>0.000000</td>\n",
       "      <td>158.500000</td>\n",
       "      <td>7.910400</td>\n",
       "      <td>1.000000</td>\n",
       "      <td>0.000000</td>\n",
       "      <td>0.000000</td>\n",
       "      <td>0.000000</td>\n",
       "    </tr>\n",
       "    <tr>\n",
       "      <td>50%</td>\n",
       "      <td>446.000000</td>\n",
       "      <td>28.000000</td>\n",
       "      <td>0.000000</td>\n",
       "      <td>0.000000</td>\n",
       "      <td>337.000000</td>\n",
       "      <td>14.454200</td>\n",
       "      <td>2.000000</td>\n",
       "      <td>0.000000</td>\n",
       "      <td>1.000000</td>\n",
       "      <td>0.000000</td>\n",
       "    </tr>\n",
       "    <tr>\n",
       "      <td>75%</td>\n",
       "      <td>668.500000</td>\n",
       "      <td>35.000000</td>\n",
       "      <td>1.000000</td>\n",
       "      <td>0.000000</td>\n",
       "      <td>519.500000</td>\n",
       "      <td>31.000000</td>\n",
       "      <td>2.000000</td>\n",
       "      <td>1.000000</td>\n",
       "      <td>1.000000</td>\n",
       "      <td>1.000000</td>\n",
       "    </tr>\n",
       "    <tr>\n",
       "      <td>max</td>\n",
       "      <td>891.000000</td>\n",
       "      <td>80.000000</td>\n",
       "      <td>8.000000</td>\n",
       "      <td>6.000000</td>\n",
       "      <td>680.000000</td>\n",
       "      <td>512.329224</td>\n",
       "      <td>2.000000</td>\n",
       "      <td>2.000000</td>\n",
       "      <td>1.000000</td>\n",
       "      <td>1.000000</td>\n",
       "    </tr>\n",
       "  </tbody>\n",
       "</table>\n",
       "</div>"
      ],
      "text/plain": [
       "       PassengerId         Age       SibSp       Parch      Ticket  \\\n",
       "count   891.000000  891.000000  891.000000  891.000000  891.000000   \n",
       "mean    446.000000   29.361582    0.523008    0.381594  338.528620   \n",
       "std     257.353842   13.019696    1.102743    0.806057  200.850657   \n",
       "min       1.000000    0.420000    0.000000    0.000000    0.000000   \n",
       "25%     223.500000   22.000000    0.000000    0.000000  158.500000   \n",
       "50%     446.000000   28.000000    0.000000    0.000000  337.000000   \n",
       "75%     668.500000   35.000000    1.000000    0.000000  519.500000   \n",
       "max     891.000000   80.000000    8.000000    6.000000  680.000000   \n",
       "\n",
       "             Fare    Embarked  passenger_class  passenger_sex  \\\n",
       "count  891.000000  891.000000       891.000000     891.000000   \n",
       "mean    32.204247    1.529742         0.691358       0.647587   \n",
       "std     49.693409    0.800254         0.836071       0.477990   \n",
       "min      0.000000   -1.000000         0.000000       0.000000   \n",
       "25%      7.910400    1.000000         0.000000       0.000000   \n",
       "50%     14.454200    2.000000         0.000000       1.000000   \n",
       "75%     31.000000    2.000000         1.000000       1.000000   \n",
       "max    512.329224    2.000000         2.000000       1.000000   \n",
       "\n",
       "       passenger_survived  \n",
       "count          891.000000  \n",
       "mean             0.383838  \n",
       "std              0.486592  \n",
       "min              0.000000  \n",
       "25%              0.000000  \n",
       "50%              0.000000  \n",
       "75%              1.000000  \n",
       "max              1.000000  "
      ]
     },
     "execution_count": 12,
     "metadata": {},
     "output_type": "execute_result"
    }
   ],
   "source": [
    "setDatosTitanic.describe()"
   ]
  },
  {
   "cell_type": "markdown",
   "metadata": {},
   "source": [
    "#### Analisis por gráficos de los datos\n",
    "\n",
    "Es importante recordar lo que significa la nomenclatura que se presenta:\n",
    "* Passenger_survived: No (0) y Si (1)\n",
    "* Passenger_Sex: Mujer (F)(0) y Hombre (M)(1)\n",
    "* Passenger_class: Lower (0), Middle (1) y Upper (2)\n",
    "* Embarked: C (0), Q (1) y S (2)"
   ]
  },
  {
   "cell_type": "code",
   "execution_count": 17,
   "metadata": {},
   "outputs": [
    {
     "data": {
      "image/png": "[encoded data removed]",
      "text/plain": [
       "<Figure size 1080x576 with 1 Axes>"
      ]
     },
     "metadata": {
      "needs_background": "light"
     },
     "output_type": "display_data"
    }
   ],
   "source": [
    "import seaborn as sns\n",
    "plt.figure(figsize=(15,8))\n",
    "ax = sns.kdeplot(setDatosTitanic[\"Age\"][setDatosTitanic.passenger_survived == 1], color=\"green\", shade=True)\n",
    "sns.kdeplot(setDatosTitanic[\"Age\"][setDatosTitanic.passenger_survived == 0], color=\"red\", shade=True)\n",
    "plt.legend(['Sobreviviente', 'Muerto'])\n",
    "plt.title('Sobrevivió o murio vs edad')\n",
    "ax.set(xlabel='Edad')\n",
    "plt.xlim(-10,85)\n",
    "plt.show()"
   ]
  },
  {
   "cell_type": "code",
   "execution_count": 18,
   "metadata": {},
   "outputs": [
    {
     "data": {
      "image/png": "[encoded data removed]",
      "text/plain": [
       "<Figure size 1080x576 with 1 Axes>"
      ]
     },
     "metadata": {
      "needs_background": "light"
     },
     "output_type": "display_data"
    }
   ],
   "source": [
    "plt.figure(figsize=(15,8))\n",
    "ax = sns.kdeplot(setDatosTitanic[\"Fare\"][setDatosTitanic.passenger_survived == 1], color=\"green\", shade=True)\n",
    "sns.kdeplot(setDatosTitanic[\"Fare\"][setDatosTitanic.passenger_survived == 0], color=\"red\", shade=True)\n",
    "plt.legend(['Sobreviviente', 'Muerto'])\n",
    "plt.title('Sobrevivio o murio por Tarifa')\n",
    "ax.set(xlabel='Tarifa')\n",
    "plt.xlim(-20,200)\n",
    "plt.show()"
   ]
  },
  {
   "cell_type": "code",
   "execution_count": 19,
   "metadata": {},
   "outputs": [
    {
     "data": {
      "image/png": "[encoded data removed]",
      "text/plain": [
       "<Figure size 1080x576 with 1 Axes>"
      ]
     },
     "metadata": {
      "needs_background": "light"
     },
     "output_type": "display_data"
    }
   ],
   "source": [
    "plt.figure(figsize=(15,8))\n",
    "ax = sns.kdeplot(setDatosTitanic[\"Ticket\"][setDatosTitanic.passenger_survived == 1], color=\"green\", shade=True)\n",
    "sns.kdeplot(setDatosTitanic[\"Ticket\"][setDatosTitanic.passenger_survived == 0], color=\"red\", shade=True)\n",
    "plt.legend(['Sobreviviente', 'Muerto'])\n",
    "plt.title('Sobrevivió o murio por Ticket')\n",
    "ax.set(xlabel='Ticket')\n",
    "plt.xlim(-20,200)\n",
    "plt.show()"
   ]
  },
  {
   "cell_type": "code",
   "execution_count": 22,
   "metadata": {},
   "outputs": [
    {
     "data": {
      "image/png": "[encoded data removed]",
      "text/plain": [
       "<Figure size 432x288 with 1 Axes>"
      ]
     },
     "metadata": {
      "needs_background": "light"
     },
     "output_type": "display_data"
    }
   ],
   "source": [
    "sns.barplot('passenger_class', 'passenger_survived', data=setDatosTitanic, color=\"yellow\")\n",
    "\n",
    "plt.show()"
   ]
  },
  {
   "cell_type": "code",
   "execution_count": 24,
   "metadata": {},
   "outputs": [
    {
     "data": {
      "image/png": "[encoded data removed]",
      "text/plain": [
       "<Figure size 432x288 with 1 Axes>"
      ]
     },
     "metadata": {
      "needs_background": "light"
     },
     "output_type": "display_data"
    }
   ],
   "source": [
    "sns.barplot('passenger_sex', 'passenger_survived', data=setDatosTitanic, color=\"orange\")\n",
    "plt.show()"
   ]
  },
  {
   "cell_type": "code",
   "execution_count": 25,
   "metadata": {},
   "outputs": [
    {
     "data": {
      "text/html": [
       "<div>\n",
       "<style scoped>\n",
       "    .dataframe tbody tr th:only-of-type {\n",
       "        vertical-align: middle;\n",
       "    }\n",
       "\n",
       "    .dataframe tbody tr th {\n",
       "        vertical-align: top;\n",
       "    }\n",
       "\n",
       "    .dataframe thead th {\n",
       "        text-align: right;\n",
       "    }\n",
       "</style>\n",
       "<table border=\"1\" class=\"dataframe\">\n",
       "  <thead>\n",
       "    <tr style=\"text-align: right;\">\n",
       "      <th></th>\n",
       "      <th>PassengerId</th>\n",
       "      <th>Age</th>\n",
       "      <th>SibSp</th>\n",
       "      <th>Parch</th>\n",
       "      <th>Ticket</th>\n",
       "      <th>Fare</th>\n",
       "      <th>Embarked</th>\n",
       "      <th>passenger_class</th>\n",
       "      <th>passenger_sex</th>\n",
       "      <th>passenger_survived</th>\n",
       "    </tr>\n",
       "  </thead>\n",
       "  <tbody>\n",
       "    <tr>\n",
       "      <td>PassengerId</td>\n",
       "      <td>1.000000</td>\n",
       "      <td>0.034212</td>\n",
       "      <td>-0.057527</td>\n",
       "      <td>-0.001652</td>\n",
       "      <td>-0.056554</td>\n",
       "      <td>0.012658</td>\n",
       "      <td>0.012985</td>\n",
       "      <td>0.035144</td>\n",
       "      <td>0.042939</td>\n",
       "      <td>-0.005007</td>\n",
       "    </tr>\n",
       "    <tr>\n",
       "      <td>Age</td>\n",
       "      <td>0.034212</td>\n",
       "      <td>1.000000</td>\n",
       "      <td>-0.233296</td>\n",
       "      <td>-0.172482</td>\n",
       "      <td>-0.070382</td>\n",
       "      <td>0.096688</td>\n",
       "      <td>-0.031903</td>\n",
       "      <td>0.339898</td>\n",
       "      <td>0.081163</td>\n",
       "      <td>-0.064910</td>\n",
       "    </tr>\n",
       "    <tr>\n",
       "      <td>SibSp</td>\n",
       "      <td>-0.057527</td>\n",
       "      <td>-0.233296</td>\n",
       "      <td>1.000000</td>\n",
       "      <td>0.414838</td>\n",
       "      <td>0.079461</td>\n",
       "      <td>0.159651</td>\n",
       "      <td>0.071480</td>\n",
       "      <td>-0.083081</td>\n",
       "      <td>-0.114631</td>\n",
       "      <td>-0.035322</td>\n",
       "    </tr>\n",
       "    <tr>\n",
       "      <td>Parch</td>\n",
       "      <td>-0.001652</td>\n",
       "      <td>-0.172482</td>\n",
       "      <td>0.414838</td>\n",
       "      <td>1.000000</td>\n",
       "      <td>0.020003</td>\n",
       "      <td>0.216225</td>\n",
       "      <td>0.043351</td>\n",
       "      <td>-0.018443</td>\n",
       "      <td>-0.245489</td>\n",
       "      <td>0.081629</td>\n",
       "    </tr>\n",
       "    <tr>\n",
       "      <td>Ticket</td>\n",
       "      <td>-0.056554</td>\n",
       "      <td>-0.070382</td>\n",
       "      <td>0.079461</td>\n",
       "      <td>0.020003</td>\n",
       "      <td>1.000000</td>\n",
       "      <td>-0.013885</td>\n",
       "      <td>0.011146</td>\n",
       "      <td>-0.319869</td>\n",
       "      <td>0.059372</td>\n",
       "      <td>-0.164549</td>\n",
       "    </tr>\n",
       "    <tr>\n",
       "      <td>Fare</td>\n",
       "      <td>0.012658</td>\n",
       "      <td>0.096688</td>\n",
       "      <td>0.159651</td>\n",
       "      <td>0.216225</td>\n",
       "      <td>-0.013885</td>\n",
       "      <td>1.000000</td>\n",
       "      <td>-0.230365</td>\n",
       "      <td>0.549500</td>\n",
       "      <td>-0.182333</td>\n",
       "      <td>0.257307</td>\n",
       "    </tr>\n",
       "    <tr>\n",
       "      <td>Embarked</td>\n",
       "      <td>0.012985</td>\n",
       "      <td>-0.031903</td>\n",
       "      <td>0.071480</td>\n",
       "      <td>0.043351</td>\n",
       "      <td>0.011146</td>\n",
       "      <td>-0.230365</td>\n",
       "      <td>1.000000</td>\n",
       "      <td>-0.173511</td>\n",
       "      <td>0.118492</td>\n",
       "      <td>-0.176509</td>\n",
       "    </tr>\n",
       "    <tr>\n",
       "      <td>passenger_class</td>\n",
       "      <td>0.035144</td>\n",
       "      <td>0.339898</td>\n",
       "      <td>-0.083081</td>\n",
       "      <td>-0.018443</td>\n",
       "      <td>-0.319869</td>\n",
       "      <td>0.549500</td>\n",
       "      <td>-0.173511</td>\n",
       "      <td>1.000000</td>\n",
       "      <td>-0.131900</td>\n",
       "      <td>0.338481</td>\n",
       "    </tr>\n",
       "    <tr>\n",
       "      <td>passenger_sex</td>\n",
       "      <td>0.042939</td>\n",
       "      <td>0.081163</td>\n",
       "      <td>-0.114631</td>\n",
       "      <td>-0.245489</td>\n",
       "      <td>0.059372</td>\n",
       "      <td>-0.182333</td>\n",
       "      <td>0.118492</td>\n",
       "      <td>-0.131900</td>\n",
       "      <td>1.000000</td>\n",
       "      <td>-0.543351</td>\n",
       "    </tr>\n",
       "    <tr>\n",
       "      <td>passenger_survived</td>\n",
       "      <td>-0.005007</td>\n",
       "      <td>-0.064910</td>\n",
       "      <td>-0.035322</td>\n",
       "      <td>0.081629</td>\n",
       "      <td>-0.164549</td>\n",
       "      <td>0.257307</td>\n",
       "      <td>-0.176509</td>\n",
       "      <td>0.338481</td>\n",
       "      <td>-0.543351</td>\n",
       "      <td>1.000000</td>\n",
       "    </tr>\n",
       "  </tbody>\n",
       "</table>\n",
       "</div>"
      ],
      "text/plain": [
       "                    PassengerId       Age     SibSp     Parch    Ticket  \\\n",
       "PassengerId            1.000000  0.034212 -0.057527 -0.001652 -0.056554   \n",
       "Age                    0.034212  1.000000 -0.233296 -0.172482 -0.070382   \n",
       "SibSp                 -0.057527 -0.233296  1.000000  0.414838  0.079461   \n",
       "Parch                 -0.001652 -0.172482  0.414838  1.000000  0.020003   \n",
       "Ticket                -0.056554 -0.070382  0.079461  0.020003  1.000000   \n",
       "Fare                   0.012658  0.096688  0.159651  0.216225 -0.013885   \n",
       "Embarked               0.012985 -0.031903  0.071480  0.043351  0.011146   \n",
       "passenger_class        0.035144  0.339898 -0.083081 -0.018443 -0.319869   \n",
       "passenger_sex          0.042939  0.081163 -0.114631 -0.245489  0.059372   \n",
       "passenger_survived    -0.005007 -0.064910 -0.035322  0.081629 -0.164549   \n",
       "\n",
       "                        Fare  Embarked  passenger_class  passenger_sex  \\\n",
       "PassengerId         0.012658  0.012985         0.035144       0.042939   \n",
       "Age                 0.096688 -0.031903         0.339898       0.081163   \n",
       "SibSp               0.159651  0.071480        -0.083081      -0.114631   \n",
       "Parch               0.216225  0.043351        -0.018443      -0.245489   \n",
       "Ticket             -0.013885  0.011146        -0.319869       0.059372   \n",
       "Fare                1.000000 -0.230365         0.549500      -0.182333   \n",
       "Embarked           -0.230365  1.000000        -0.173511       0.118492   \n",
       "passenger_class     0.549500 -0.173511         1.000000      -0.131900   \n",
       "passenger_sex      -0.182333  0.118492        -0.131900       1.000000   \n",
       "passenger_survived  0.257307 -0.176509         0.338481      -0.543351   \n",
       "\n",
       "                    passenger_survived  \n",
       "PassengerId                  -0.005007  \n",
       "Age                          -0.064910  \n",
       "SibSp                        -0.035322  \n",
       "Parch                         0.081629  \n",
       "Ticket                       -0.164549  \n",
       "Fare                          0.257307  \n",
       "Embarked                     -0.176509  \n",
       "passenger_class               0.338481  \n",
       "passenger_sex                -0.543351  \n",
       "passenger_survived            1.000000  "
      ]
     },
     "execution_count": 25,
     "metadata": {},
     "output_type": "execute_result"
    }
   ],
   "source": [
    "setDatosTitanic.corr()"
   ]
  },
  {
   "cell_type": "code",
   "execution_count": 26,
   "metadata": {},
   "outputs": [
    {
     "data": {
      "image/png": "[encoded data removed]",
      "text/plain": [
       "<Figure size 576x360 with 2 Axes>"
      ]
     },
     "metadata": {
      "needs_background": "light"
     },
     "output_type": "display_data"
    }
   ],
   "source": [
    "plt.subplots(figsize=(8, 5))\n",
    "sns.heatmap(setDatosTitanic.corr(), annot=True, cmap=\"RdYlGn\")\n",
    "plt.show()"
   ]
  },
  {
   "cell_type": "markdown",
   "metadata": {},
   "source": [
    "#### Train-val-test split \n",
    "El primer paso es separar los datos en entrenamiento, validación y pruebas:\n",
    "\n",
    "* separar datos en entrenamiento y pruebas. Por ejemplo usando: https://scikit-learn.org/stable/modules/generated/sklearn.model_selection.train_test_split.html\n",
    "* tomar una porción de datos de entrenamiento del paso anterior para validación.\n",
    "\n",
    "**Se usará una separación 70%, 30% y para la validación se usará el 20% de los datos de entrenamiento.**\n"
   ]
  },
  {
   "cell_type": "code",
   "execution_count": 39,
   "metadata": {},
   "outputs": [],
   "source": [
    "entrena, prueba = train_test_split( setDatosTitanic, test_size=0.3, random_state=42)\n",
    "entrena, valida = train_test_split( entrena, test_size=0.1, random_state=42)"
   ]
  },
  {
   "cell_type": "code",
   "execution_count": 40,
   "metadata": {},
   "outputs": [
    {
     "name": "stdout",
     "output_type": "stream",
     "text": [
      "El tamaño de los conjuntos de datos es: \n",
      "ENTRENAMIENTO:  (560, 10) \n",
      "PRUEBA:  (268, 10) \n",
      "VALIDA:  (63, 10)\n"
     ]
    }
   ],
   "source": [
    "print(\"El tamaño de los conjuntos de datos es: \")\n",
    "print(\"ENTRENAMIENTO: \", entrena.shape, \"\\nPRUEBA: \", prueba.shape, \"\\nVALIDA: \", valida.shape)"
   ]
  },
  {
   "cell_type": "markdown",
   "metadata": {},
   "source": [
    "#### Preparando los modelos"
   ]
  },
  {
   "cell_type": "code",
   "execution_count": 41,
   "metadata": {},
   "outputs": [],
   "source": [
    "features = ['passenger_sex', 'passenger_class', 'Fare', 'Embarked', 'Age']\n",
    "to_predict = ['passenger_survived']"
   ]
  },
  {
   "cell_type": "code",
   "execution_count": 43,
   "metadata": {},
   "outputs": [],
   "source": [
    "def decision_tree(x, y):\n",
    "    clf = tree.DecisionTreeClassifier()\n",
    "    clf = clf.fit(x, y)\n",
    "    return clf"
   ]
  },
  {
   "cell_type": "code",
   "execution_count": 45,
   "metadata": {},
   "outputs": [
    {
     "data": {
      "text/plain": [
       "DecisionTreeClassifier(ccp_alpha=0.0, class_weight=None, criterion='gini',\n",
       "                       max_depth=None, max_features=None, max_leaf_nodes=None,\n",
       "                       min_impurity_decrease=0.0, min_impurity_split=None,\n",
       "                       min_samples_leaf=1, min_samples_split=2,\n",
       "                       min_weight_fraction_leaf=0.0, presort='deprecated',\n",
       "                       random_state=None, splitter='best')"
      ]
     },
     "execution_count": 45,
     "metadata": {},
     "output_type": "execute_result"
    }
   ],
   "source": [
    "tree_model = decision_tree(entrena[features], entrena[to_predict])\n",
    "tree_model"
   ]
  },
  {
   "cell_type": "code",
   "execution_count": 48,
   "metadata": {},
   "outputs": [
    {
     "data": {
      "text/plain": [
       "0.746268656716418"
      ]
     },
     "execution_count": 48,
     "metadata": {},
     "output_type": "execute_result"
    }
   ],
   "source": [
    "accuracy = accuracy_score(prueba[to_predict], tree_model.predict(prueba[features]))\n",
    "accuracy"
   ]
  },
  {
   "cell_type": "code",
   "execution_count": 49,
   "metadata": {},
   "outputs": [],
   "source": [
    "def svm(x, y, kernel, degree, c):\n",
    "    clf = SVC(gamma='scale', decision_function_shape='ovo', degree = degree, kernel = kernel, C = c)\n",
    "    clf = clf.fit(x, y)\n",
    "    return clf"
   ]
  },
  {
   "cell_type": "code",
   "execution_count": 50,
   "metadata": {},
   "outputs": [
    {
     "name": "stderr",
     "output_type": "stream",
     "text": [
      "C:\\Users\\diego\\AppData\\Local\\Continuum\\anaconda3\\lib\\site-packages\\sklearn\\utils\\validation.py:760: DataConversionWarning: A column-vector y was passed when a 1d array was expected. Please change the shape of y to (n_samples, ), for example using ravel().\n",
      "  y = column_or_1d(y, warn=True)\n"
     ]
    },
    {
     "data": {
      "text/plain": [
       "SVC(C=1, break_ties=False, cache_size=200, class_weight=None, coef0=0.0,\n",
       "    decision_function_shape='ovo', degree=3, gamma='scale', kernel='rbf',\n",
       "    max_iter=-1, probability=False, random_state=None, shrinking=True,\n",
       "    tol=0.001, verbose=False)"
      ]
     },
     "execution_count": 50,
     "metadata": {},
     "output_type": "execute_result"
    }
   ],
   "source": [
    "svc_model = svm(entrena[features], entrena[to_predict], 'rbf', 3, 1)\n",
    "svc_model"
   ]
  },
  {
   "cell_type": "code",
   "execution_count": 51,
   "metadata": {},
   "outputs": [
    {
     "data": {
      "text/plain": [
       "0.6567164179104478"
      ]
     },
     "execution_count": 51,
     "metadata": {},
     "output_type": "execute_result"
    }
   ],
   "source": [
    "accuracy = accuracy_score(prueba[to_predict], svc_model.predict(prueba[features]))\n",
    "accuracy"
   ]
  },
  {
   "cell_type": "code",
   "execution_count": 53,
   "metadata": {},
   "outputs": [],
   "source": [
    "def naive_bayes_scikit(x, y):\n",
    "    gnb = GaussianNB()\n",
    "    gnb = gnb.fit(x, y)\n",
    "    return gnb"
   ]
  },
  {
   "cell_type": "code",
   "execution_count": 54,
   "metadata": {},
   "outputs": [
    {
     "name": "stderr",
     "output_type": "stream",
     "text": [
      "C:\\Users\\diego\\AppData\\Local\\Continuum\\anaconda3\\lib\\site-packages\\sklearn\\naive_bayes.py:206: DataConversionWarning: A column-vector y was passed when a 1d array was expected. Please change the shape of y to (n_samples, ), for example using ravel().\n",
      "  y = column_or_1d(y, warn=True)\n"
     ]
    },
    {
     "data": {
      "text/plain": [
       "GaussianNB(priors=None, var_smoothing=1e-09)"
      ]
     },
     "execution_count": 54,
     "metadata": {},
     "output_type": "execute_result"
    }
   ],
   "source": [
    "nb_model = naive_bayes_scikit(entrena[features], entrena[to_predict])\n",
    "nb_model"
   ]
  },
  {
   "cell_type": "code",
   "execution_count": 55,
   "metadata": {},
   "outputs": [
    {
     "data": {
      "text/plain": [
       "0.7798507462686567"
      ]
     },
     "execution_count": 55,
     "metadata": {},
     "output_type": "execute_result"
    }
   ],
   "source": [
    "accuracy = accuracy_score(prueba[to_predict], nb_model.predict(prueba[features]))\n",
    "accuracy"
   ]
  },
  {
   "cell_type": "code",
   "execution_count": 57,
   "metadata": {},
   "outputs": [],
   "source": [
    "def pre_prob(y):\n",
    "    y_dict = collections.Counter(y)\n",
    "    pre_probab = np.ones(2)\n",
    "    for i in range(0, 2):\n",
    "        pre_probab[i] = y_dict[i]/y.shape[0]\n",
    "    return pre_probab\n",
    "\n",
    "def mean_var(X, y):\n",
    "    n_features = X.shape[1]\n",
    "    m = np.ones((2, n_features))\n",
    "    v = np.ones((2, n_features))\n",
    "    n_0 = np.bincount(y)[np.nonzero(np.bincount(y))[0]][0]\n",
    "    x0 = np.ones((n_0, n_features))\n",
    "    x1 = np.ones((X.shape[0] - n_0, n_features))\n",
    "    \n",
    "    k = 0\n",
    "    for i in range(0, X.shape[0]):\n",
    "        if y[i] == 0:\n",
    "            x0[k] = X[i]\n",
    "            k = k + 1\n",
    "    k = 0\n",
    "    for i in range(0, X.shape[0]):\n",
    "        if y[i] == 1:\n",
    "            x1[k] = X[i]\n",
    "            k = k + 1\n",
    "        \n",
    "    for j in range(0, n_features):\n",
    "        m[0][j] = np.mean(x0.T[j])\n",
    "        v[0][j] = np.var(x0.T[j])*(n_0/(n_0 - 1))\n",
    "        m[1][j] = np.mean(x1.T[j])\n",
    "        v[1][j] = np.var(x1.T[j])*((X.shape[0]-n_0)/((X.shape[0] - n_0) - 1))\n",
    "    return m, v # mean and variance \n",
    "\n",
    "def prob_feature_class(m, v, x):\n",
    "    n_features = m.shape[1]\n",
    "    pfc = np.ones(2)\n",
    "    for i in range(0, 2):\n",
    "        product = 1\n",
    "        for j in range(0, n_features):\n",
    "            denominator = sqrt(2*3.14*v[i][j])\n",
    "            if denominator == 0:\n",
    "                continue\n",
    "            product = product * (1/denominator) * exp(-0.5 * pow((x[j] - m[i][j]),2)/v[i][j])\n",
    "        pfc[i] = product\n",
    "    return pfc\n",
    "\n",
    "def GNB(X, y, x):\n",
    "    m, v = mean_var(X, y)\n",
    "    pfc = prob_feature_class(m, v, x)\n",
    "    pre_probab = pre_prob(y)\n",
    "    pcf = np.ones(2)\n",
    "    total_prob = 0\n",
    "    for i in range(0, 2):\n",
    "        total_prob = total_prob + (pfc[i] * pre_probab[i])\n",
    "    for i in range(0, 2):\n",
    "        pcf[i] = (pfc[i] * pre_probab[i])/total_prob\n",
    "    prediction = int(pcf.argmax())\n",
    "    return m, v, pre_probab, pfc, pcf, prediction\n",
    "\n",
    "def naive_bayes(X_train, y_train, x_test):\n",
    "    predictions = np.zeros(x_test.shape[0])\n",
    "    predictions.shape\n",
    "    for i in range(0, predictions.shape[0]):\n",
    "        x = x_test[i]\n",
    "        m, v, pre_probab, pfc, pcf, prediction = GNB(X_train, y_train, x)\n",
    "        predictions[i] = prediction\n",
    "    return predictions"
   ]
  },
  {
   "cell_type": "code",
   "execution_count": 58,
   "metadata": {},
   "outputs": [],
   "source": [
    "X_train = np.array(entrena[features])\n",
    "y_train = np.array(entrena['passenger_survived'])\n",
    "x_test = np.array(prueba[features])\n",
    "\n",
    "predictions = naive_bayes(X_train, y_train, x_test)"
   ]
  },
  {
   "cell_type": "code",
   "execution_count": 59,
   "metadata": {},
   "outputs": [
    {
     "data": {
      "text/plain": [
       "0.7798507462686567"
      ]
     },
     "execution_count": 59,
     "metadata": {},
     "output_type": "execute_result"
    }
   ],
   "source": [
    "accuracy = accuracy_score(prueba[to_predict], predictions)\n",
    "accuracy"
   ]
  },
  {
   "cell_type": "code",
   "execution_count": 62,
   "metadata": {},
   "outputs": [
    {
     "name": "stdout",
     "output_type": "stream",
     "text": [
      "Estructura datos de entrenamiento:  (460, 5)\n",
      "Estructura etiquetas entrenamiento (Y):  (2300,)\n",
      "Estructura datos de Validacion:  (63, 5)\n",
      "Estructura etiquetas de validacion (Y):  (315,)\n",
      "Estructura datos de prueba:  (268, 5)\n"
     ]
    },
    {
     "name": "stderr",
     "output_type": "stream",
     "text": [
      "C:\\Users\\diego\\AppData\\Local\\Continuum\\anaconda3\\lib\\site-packages\\ipykernel_launcher.py:4: FutureWarning: Method .as_matrix will be removed in a future version. Use .values instead.\n",
      "  after removing the cwd from sys.path.\n",
      "C:\\Users\\diego\\AppData\\Local\\Continuum\\anaconda3\\lib\\site-packages\\ipykernel_launcher.py:5: FutureWarning: Method .as_matrix will be removed in a future version. Use .values instead.\n",
      "  \"\"\"\n",
      "C:\\Users\\diego\\AppData\\Local\\Continuum\\anaconda3\\lib\\site-packages\\ipykernel_launcher.py:6: FutureWarning: Method .as_matrix will be removed in a future version. Use .values instead.\n",
      "  \n"
     ]
    }
   ],
   "source": [
    "logs_dir = r\"C:\\Users\\diego\\StatisticalLearning\\Proyecto\\logs\"\n",
    "\n",
    "target=to_predict\n",
    "train_data = entrena[features].as_matrix()\n",
    "test_data = prueba[features].as_matrix()\n",
    "val_data = valida[features].as_matrix()\n",
    "X_train = train_data[100:,:]\n",
    "y_train = train_data[100:,:]\n",
    "y_train = np.reshape(y_train,-1)\n",
    "X_val = val_data[:100,:]\n",
    "y_val = val_data[:100,:]\n",
    "y_val = np.reshape(y_val,-1)\n",
    "X_test = test_data\n",
    "print('Estructura datos de entrenamiento: ', X_train.shape)\n",
    "print('Estructura etiquetas entrenamiento (Y): ', y_train.shape)\n",
    "print('Estructura datos de Validacion: ', X_val.shape)\n",
    "print('Estructura etiquetas de validacion (Y): ', y_val.shape)\n",
    "print('Estructura datos de prueba: ', X_test.shape)\n",
    "\n",
    "def run_model(session, predict, loss_val, Xd, yd,\n",
    "              epochs=1, batch_size=64, print_every=100,\n",
    "              training=None, plot_losses=False, learning_rate = 0.001, rl = 0.001):\n",
    "    \n",
    "    # tiene la accuracy en el cálculo de tensorflow\n",
    "    correct_prediction = tf.equal(tf.argmax(predict,1), y)\n",
    "    accuracy = tf.reduce_mean(tf.cast(correct_prediction, tf.float32))\n",
    "    \n",
    "    # mezcla indicios\n",
    "    train_indicies = np.arange(Xd.shape[0])\n",
    "\n",
    "    training_now = training is not None\n",
    "    \n",
    "    # establece las variables que se desean computar y optimizar\n",
    "    # si se tiene una función de entrenamiento, se le agrega lo que se desea computar\n",
    "    variables = [cost_op,correct_prediction,accuracy]\n",
    "    if training_now:\n",
    "        variables[-1] = training\n",
    "    \n",
    "    # contador \n",
    "    iter_cnt = 0\n",
    "    for e in np.arange(epochs):\n",
    "        # almacena las pérdidas y el accuracy\n",
    "        correct = 0\n",
    "        losses = []\n",
    "        # asegurarse que se itera sobre el dataset una vez\n",
    "        for i in np.arange(int(math.ceil(Xd.shape[0]/batch_size))):\n",
    "            # genera indicios para el batch\n",
    "            start_idx = (i*batch_size)%Xd.shape[0]\n",
    "            idx = train_indicies[start_idx:start_idx+batch_size]\n",
    "            \n",
    "            # crea un feed dictionary para este lote\n",
    "            feed_dict = {x: Xd[idx,:],\n",
    "                         y: yd[idx],\n",
    "                         is_training: training_now }\n",
    "            # obtiene el tamanio del lote (batch)\n",
    "            actual_batch_size = yd[idx].shape[0]\n",
    "            # tiene la pérdida en el calculo de tensorflow y predicciones correctas\n",
    "            # y si es dado, hace un paso de entrenamiento\n",
    "            loss, corr, _ = session.run(variables,feed_dict=feed_dict)\n",
    "            \n",
    "            # agrega estadísticas de rendimiento\n",
    "            losses.append(loss*actual_batch_size)\n",
    "            correct += np.sum(corr)\n",
    "            \n",
    "            # imprime cada now y then\n",
    "            if training_now and (iter_cnt % print_every) == 0:\n",
    "                print(\"ITERACION {0}: con una pérdida de entrenamiento en minbatch = {1:.3g} y accuracy de {2:.2g}\"\\\n",
    "                      .format(iter_cnt,loss,np.sum(corr)/actual_batch_size))\n",
    "            iter_cnt += 1\n",
    "        total_correct = correct/Xd.shape[0]\n",
    "        total_loss = np.sum(losses)/Xd.shape[0]\n",
    "        print(\"EPOCH {2}, Pérdida General = {0:.3g} y accuracy de {1:.3g}\"\n",
    "              .format(total_loss,total_correct,e+1))\n",
    "        if plot_losses and (e == epochs-1):\n",
    "            plt.plot(losses)\n",
    "            plt.grid(True)\n",
    "            plt.title('Epoch {} Loss'.format(e+1))\n",
    "            plt.xlabel('numero minibatch')\n",
    "            plt.ylabel('perdida minibatch')\n",
    "            plt.show()\n",
    "    return total_loss,total_correct"
   ]
  },
  {
   "cell_type": "code",
   "execution_count": 63,
   "metadata": {},
   "outputs": [],
   "source": [
    "def logisticRegression(session, Xd, yd, epochs=1, batch_size=64, print_every=100,\n",
    "                       plot_losses=False, learning_rate = 0.001, rl = 0.001, training = False):\n",
    "        # limpia viejas variables\n",
    "#     tf.reset_default_graph()\n",
    "        \n",
    "    numFeatures = Xd.shape[1]\n",
    "    numLabels = 2\n",
    "    \n",
    "    x = tf.placeholder(tf.float32, [None, numFeatures], name = 'x')\n",
    "    y = tf.placeholder(tf.int64, [None], name = 'y')\n",
    "    is_training = tf.placeholder(tf.bool)\n",
    "    \n",
    "     #Parametro Regularizacion\n",
    "    Lambda = rl\n",
    "    learningRate = tf.train.exponential_decay(learning_rate= learning_rate,\n",
    "                                          global_step= 1,\n",
    "                                          decay_steps=X_train.shape[0],\n",
    "                                          decay_rate= 0.90,\n",
    "                                          staircase=True)\n",
    "    # learningRate = learning_rate\n",
    "    with tf.variable_scope(\"model\", reuse=tf.AUTO_REUSE):\n",
    "        weights=tf.get_variable(\"weights\",shape=[numFeatures,numLabels])\n",
    "        bias=tf.get_variable(\"bias\",shape=[numLabels])\n",
    "        y_out = tf.matmul(x,weights)+bias\n",
    "\n",
    "    loss = tf.reduce_mean(tf.nn.sigmoid_cross_entropy_with_logits(labels=tf.one_hot(y,2),logits=y_out))\n",
    "    regularizer = tf.nn.l2_loss(weights)\n",
    "    cost_op = tf.reduce_mean(loss + Lambda * regularizer)\n",
    "    optimizer = tf.train.GradientDescentOptimizer(learningRate)\n",
    "    train_step = optimizer.minimize(cost_op)\n",
    "    prediction = tf.argmax(y_out,1)\n",
    "    #se empieza la sesion\n",
    "    \n",
    "    \n",
    "#     sess = tf.Session()\n",
    "#     sess.run(tf.global_variables_initializer())\n",
    "\n",
    "    if training is True:\n",
    "        session.run(tf.global_variables_initializer())\n",
    "    \n",
    "#     run_model(predict = y_out, loss_val = cost_op, Xd = Xd, yd = yd, y = y, epochs = epochs, \n",
    "#               batch_size = batch_size, print_every = print_every, training = training, plot_losses = plot_losses)\n",
    "\n",
    "    # tener accuracy de calculo de tensorflow\n",
    "    correct_prediction = tf.equal(tf.argmax(y_out,1), y)\n",
    "    accuracy = tf.reduce_mean(tf.cast(correct_prediction, tf.float32))\n",
    "    \n",
    "    # mezcla los indicios\n",
    "    train_indicies = np.arange(Xd.shape[0])\n",
    "\n",
    "    training_now = training is not False\n",
    "    \n",
    "    # configura variables que queremos calcular y optimizar\n",
    "    # si se tiene función de entrenamiento, se agregan las cosas a calcular\n",
    "    variables = [cost_op,correct_prediction,accuracy]\n",
    "    if training_now:\n",
    "        variables[-1] = train_step\n",
    "    \n",
    "    # contador \n",
    "    #empieza la sesión\n",
    "    \n",
    "    iter_cnt = 0\n",
    "    for e in np.arange(epochs):\n",
    "        # se da seguimiento a las pérdidas y al accuracy\n",
    "        correct = 0\n",
    "        losses = []\n",
    "        # nos aseguramos que iteramos sobre el dataset una vez\n",
    "        for i in np.arange(int(math.ceil(Xd.shape[0]/batch_size))):\n",
    "            # generar indicios para el lote de datos (batch)\n",
    "            start_idx = (i*batch_size)%Xd.shape[0]\n",
    "            idx = train_indicies[start_idx:start_idx+batch_size]\n",
    "            \n",
    "            # creando un feed dictionary para este batch\n",
    "            feed_dict = {x: Xd[idx,:],\n",
    "                         y: yd[idx],\n",
    "                         is_training: training_now }\n",
    "            # obtener el tamaño de batch\n",
    "            actual_batch_size = yd[idx].shape[0]\n",
    "            # tener pérdida de cálculo de tensorflow y predicciones correctas\n",
    "            # y si es necesario crear un paso de entrenamiento\n",
    "            loss, corr, _ = session.run(variables,feed_dict=feed_dict)\n",
    "            \n",
    "            # agregando las estadísticas de rendimiento\n",
    "            losses.append(loss*actual_batch_size)\n",
    "            correct += np.sum(corr)\n",
    "            \n",
    "            # imprimir cada now y then\n",
    "            if training_now and (iter_cnt % print_every) == 0:\n",
    "                print(\"ITERACION {0}: con una pérdida de entrenamiento en minbatch = {1:.3g} y accuracy de {2:.2g}\"\\\n",
    "                      .format(iter_cnt,loss,np.sum(corr)/actual_batch_size))\n",
    "            iter_cnt += 1\n",
    "        total_correct = correct/Xd.shape[0]\n",
    "        total_loss = np.sum(losses)/Xd.shape[0]\n",
    "        if e % print_every == 0:\n",
    "            print(\"EPOCH {2}, Pérdida General = {0:.3g} y accuracy de {1:.3g}\"\n",
    "              .format(total_loss,total_correct,e+1))\n",
    "        if plot_losses and (e == epochs-1):\n",
    "            plt.plot(losses)\n",
    "            plt.grid(True)\n",
    "            plt.title('Epoch {} Loss'.format(e+1))\n",
    "            plt.xlabel('numero minibatch')\n",
    "            plt.ylabel('perdida minibatch')\n",
    "            plt.show()\n",
    "            \n",
    "        \n",
    "    return (total_loss,total_correct, session, y_out, cost_op, prediction)"
   ]
  },
  {
   "cell_type": "code",
   "execution_count": 74,
   "metadata": {
    "scrolled": false
   },
   "outputs": [
    {
     "name": "stdout",
     "output_type": "stream",
     "text": [
      "Entrenamiento\n",
      "ITERACION 0: con una pérdida de entrenamiento en minbatch = 8.51 y accuracy de 0.17\n",
      "EPOCH 1, Pérdida General = 8.3 y accuracy de 0.204\n",
      "ITERACION 1000: con una pérdida de entrenamiento en minbatch = 8.51 y accuracy de 0.17\n",
      "ITERACION 2000: con una pérdida de entrenamiento en minbatch = 8.51 y accuracy de 0.17\n",
      "ITERACION 3000: con una pérdida de entrenamiento en minbatch = 8.51 y accuracy de 0.17\n",
      "ITERACION 4000: con una pérdida de entrenamiento en minbatch = 8.51 y accuracy de 0.17\n",
      "EPOCH 1001, Pérdida General = 8.3 y accuracy de 0.204\n",
      "ITERACION 5000: con una pérdida de entrenamiento en minbatch = 8.51 y accuracy de 0.17\n",
      "ITERACION 6000: con una pérdida de entrenamiento en minbatch = 8.51 y accuracy de 0.17\n",
      "ITERACION 7000: con una pérdida de entrenamiento en minbatch = 8.51 y accuracy de 0.17\n",
      "ITERACION 8000: con una pérdida de entrenamiento en minbatch = 8.51 y accuracy de 0.17\n",
      "EPOCH 2001, Pérdida General = 8.3 y accuracy de 0.204\n",
      "ITERACION 9000: con una pérdida de entrenamiento en minbatch = 8.51 y accuracy de 0.17\n",
      "ITERACION 10000: con una pérdida de entrenamiento en minbatch = 8.51 y accuracy de 0.17\n",
      "ITERACION 11000: con una pérdida de entrenamiento en minbatch = 8.51 y accuracy de 0.17\n",
      "ITERACION 12000: con una pérdida de entrenamiento en minbatch = 8.51 y accuracy de 0.17\n",
      "EPOCH 3001, Pérdida General = 8.3 y accuracy de 0.204\n",
      "ITERACION 13000: con una pérdida de entrenamiento en minbatch = 8.51 y accuracy de 0.17\n",
      "ITERACION 14000: con una pérdida de entrenamiento en minbatch = 8.51 y accuracy de 0.17\n",
      "ITERACION 15000: con una pérdida de entrenamiento en minbatch = 8.51 y accuracy de 0.17\n",
      "ITERACION 16000: con una pérdida de entrenamiento en minbatch = 8.51 y accuracy de 0.17\n",
      "EPOCH 4001, Pérdida General = 8.3 y accuracy de 0.204\n",
      "ITERACION 17000: con una pérdida de entrenamiento en minbatch = 8.51 y accuracy de 0.17\n",
      "ITERACION 18000: con una pérdida de entrenamiento en minbatch = 8.51 y accuracy de 0.17\n",
      "ITERACION 19000: con una pérdida de entrenamiento en minbatch = 8.51 y accuracy de 0.17\n",
      "ITERACION 20000: con una pérdida de entrenamiento en minbatch = 8.51 y accuracy de 0.17\n",
      "EPOCH 5001, Pérdida General = 8.3 y accuracy de 0.204\n",
      "ITERACION 21000: con una pérdida de entrenamiento en minbatch = 8.51 y accuracy de 0.17\n",
      "ITERACION 22000: con una pérdida de entrenamiento en minbatch = 8.51 y accuracy de 0.17\n",
      "ITERACION 23000: con una pérdida de entrenamiento en minbatch = 8.51 y accuracy de 0.17\n",
      "ITERACION 24000: con una pérdida de entrenamiento en minbatch = 8.51 y accuracy de 0.17\n",
      "EPOCH 6001, Pérdida General = 8.3 y accuracy de 0.204\n",
      "ITERACION 25000: con una pérdida de entrenamiento en minbatch = 8.51 y accuracy de 0.17\n",
      "ITERACION 26000: con una pérdida de entrenamiento en minbatch = 8.51 y accuracy de 0.17\n",
      "ITERACION 27000: con una pérdida de entrenamiento en minbatch = 8.51 y accuracy de 0.17\n",
      "ITERACION 28000: con una pérdida de entrenamiento en minbatch = 8.51 y accuracy de 0.17\n",
      "EPOCH 7001, Pérdida General = 8.3 y accuracy de 0.204\n",
      "ITERACION 29000: con una pérdida de entrenamiento en minbatch = 8.51 y accuracy de 0.17\n",
      "ITERACION 30000: con una pérdida de entrenamiento en minbatch = 8.51 y accuracy de 0.17\n",
      "ITERACION 31000: con una pérdida de entrenamiento en minbatch = 8.51 y accuracy de 0.17\n"
     ]
    },
    {
     "data": {
      "image/png": "[encoded data removed]",
      "text/plain": [
       "<Figure size 432x288 with 1 Axes>"
      ]
     },
     "metadata": {
      "needs_background": "light"
     },
     "output_type": "display_data"
    },
    {
     "name": "stdout",
     "output_type": "stream",
     "text": [
      "Validación\n",
      "EPOCH 1, Pérdida General = 8.8 y accuracy de 0.238\n",
      "EPOCH 101, Pérdida General = 8.8 y accuracy de 0.238\n",
      "EPOCH 201, Pérdida General = 8.8 y accuracy de 0.238\n",
      "EPOCH 301, Pérdida General = 8.8 y accuracy de 0.238\n",
      "EPOCH 401, Pérdida General = 8.8 y accuracy de 0.238\n",
      "EPOCH 501, Pérdida General = 8.8 y accuracy de 0.238\n",
      "EPOCH 601, Pérdida General = 8.8 y accuracy de 0.238\n",
      "EPOCH 701, Pérdida General = 8.8 y accuracy de 0.238\n",
      "EPOCH 801, Pérdida General = 8.8 y accuracy de 0.238\n",
      "EPOCH 901, Pérdida General = 8.8 y accuracy de 0.238\n",
      "EPOCH 1001, Pérdida General = 8.8 y accuracy de 0.238\n",
      "EPOCH 1101, Pérdida General = 8.8 y accuracy de 0.238\n",
      "EPOCH 1201, Pérdida General = 8.8 y accuracy de 0.238\n",
      "EPOCH 1301, Pérdida General = 8.8 y accuracy de 0.238\n",
      "EPOCH 1401, Pérdida General = 8.8 y accuracy de 0.238\n",
      "EPOCH 1501, Pérdida General = 8.8 y accuracy de 0.238\n",
      "EPOCH 1601, Pérdida General = 8.8 y accuracy de 0.238\n",
      "EPOCH 1701, Pérdida General = 8.8 y accuracy de 0.238\n",
      "EPOCH 1801, Pérdida General = 8.8 y accuracy de 0.238\n",
      "EPOCH 1901, Pérdida General = 8.8 y accuracy de 0.238\n",
      "EPOCH 2001, Pérdida General = 8.8 y accuracy de 0.238\n",
      "EPOCH 2101, Pérdida General = 8.8 y accuracy de 0.238\n",
      "EPOCH 2201, Pérdida General = 8.8 y accuracy de 0.238\n",
      "EPOCH 2301, Pérdida General = 8.8 y accuracy de 0.238\n",
      "EPOCH 2401, Pérdida General = 8.8 y accuracy de 0.238\n",
      "EPOCH 2501, Pérdida General = 8.8 y accuracy de 0.238\n",
      "EPOCH 2601, Pérdida General = 8.8 y accuracy de 0.238\n",
      "EPOCH 2701, Pérdida General = 8.8 y accuracy de 0.238\n",
      "EPOCH 2801, Pérdida General = 8.8 y accuracy de 0.238\n",
      "EPOCH 2901, Pérdida General = 8.8 y accuracy de 0.238\n",
      "EPOCH 3001, Pérdida General = 8.8 y accuracy de 0.238\n",
      "EPOCH 3101, Pérdida General = 8.8 y accuracy de 0.238\n",
      "EPOCH 3201, Pérdida General = 8.8 y accuracy de 0.238\n",
      "EPOCH 3301, Pérdida General = 8.8 y accuracy de 0.238\n",
      "EPOCH 3401, Pérdida General = 8.8 y accuracy de 0.238\n",
      "EPOCH 3501, Pérdida General = 8.8 y accuracy de 0.238\n",
      "EPOCH 3601, Pérdida General = 8.8 y accuracy de 0.238\n",
      "EPOCH 3701, Pérdida General = 8.8 y accuracy de 0.238\n",
      "EPOCH 3801, Pérdida General = 8.8 y accuracy de 0.238\n",
      "EPOCH 3901, Pérdida General = 8.8 y accuracy de 0.238\n",
      "EPOCH 4001, Pérdida General = 8.8 y accuracy de 0.238\n",
      "EPOCH 4101, Pérdida General = 8.8 y accuracy de 0.238\n",
      "EPOCH 4201, Pérdida General = 8.8 y accuracy de 0.238\n",
      "EPOCH 4301, Pérdida General = 8.8 y accuracy de 0.238\n",
      "EPOCH 4401, Pérdida General = 8.8 y accuracy de 0.238\n",
      "EPOCH 4501, Pérdida General = 8.8 y accuracy de 0.238\n",
      "EPOCH 4601, Pérdida General = 8.8 y accuracy de 0.238\n",
      "EPOCH 4701, Pérdida General = 8.8 y accuracy de 0.238\n",
      "EPOCH 4801, Pérdida General = 8.8 y accuracy de 0.238\n",
      "EPOCH 4901, Pérdida General = 8.8 y accuracy de 0.238\n",
      "EPOCH 5001, Pérdida General = 8.8 y accuracy de 0.238\n",
      "EPOCH 5101, Pérdida General = 8.8 y accuracy de 0.238\n",
      "EPOCH 5201, Pérdida General = 8.8 y accuracy de 0.238\n",
      "EPOCH 5301, Pérdida General = 8.8 y accuracy de 0.238\n",
      "EPOCH 5401, Pérdida General = 8.8 y accuracy de 0.238\n",
      "EPOCH 5501, Pérdida General = 8.8 y accuracy de 0.238\n",
      "EPOCH 5601, Pérdida General = 8.8 y accuracy de 0.238\n",
      "EPOCH 5701, Pérdida General = 8.8 y accuracy de 0.238\n",
      "EPOCH 5801, Pérdida General = 8.8 y accuracy de 0.238\n",
      "EPOCH 5901, Pérdida General = 8.8 y accuracy de 0.238\n",
      "EPOCH 6001, Pérdida General = 8.8 y accuracy de 0.238\n",
      "EPOCH 6101, Pérdida General = 8.8 y accuracy de 0.238\n",
      "EPOCH 6201, Pérdida General = 8.8 y accuracy de 0.238\n",
      "EPOCH 6301, Pérdida General = 8.8 y accuracy de 0.238\n",
      "EPOCH 6401, Pérdida General = 8.8 y accuracy de 0.238\n",
      "EPOCH 6501, Pérdida General = 8.8 y accuracy de 0.238\n",
      "EPOCH 6601, Pérdida General = 8.8 y accuracy de 0.238\n",
      "EPOCH 6701, Pérdida General = 8.8 y accuracy de 0.238\n",
      "EPOCH 6801, Pérdida General = 8.8 y accuracy de 0.238\n",
      "EPOCH 6901, Pérdida General = 8.8 y accuracy de 0.238\n",
      "EPOCH 7001, Pérdida General = 8.8 y accuracy de 0.238\n",
      "EPOCH 7101, Pérdida General = 8.8 y accuracy de 0.238\n",
      "EPOCH 7201, Pérdida General = 8.8 y accuracy de 0.238\n",
      "EPOCH 7301, Pérdida General = 8.8 y accuracy de 0.238\n",
      "EPOCH 7401, Pérdida General = 8.8 y accuracy de 0.238\n",
      "EPOCH 7501, Pérdida General = 8.8 y accuracy de 0.238\n",
      "EPOCH 7601, Pérdida General = 8.8 y accuracy de 0.238\n",
      "EPOCH 7701, Pérdida General = 8.8 y accuracy de 0.238\n",
      "EPOCH 7801, Pérdida General = 8.8 y accuracy de 0.238\n",
      "EPOCH 7901, Pérdida General = 8.8 y accuracy de 0.238\n"
     ]
    },
    {
     "data": {
      "text/plain": [
       "(8.803595542907715,\n",
       " 0.23809523809523808,\n",
       " <tensorflow.python.client.session.Session at 0x230b601c708>,\n",
       " <tf.Tensor 'model_1/add:0' shape=(?, 2) dtype=float32>,\n",
       " <tf.Tensor 'Mean_4:0' shape=() dtype=float32>,\n",
       " <tf.Tensor 'ArgMax_2:0' shape=(?,) dtype=int64>)"
      ]
     },
     "execution_count": 74,
     "metadata": {},
     "output_type": "execute_result"
    }
   ],
   "source": [
    "print('Entrenamiento')\n",
    "X_train = train_data[:,:]\n",
    "y_train = train_data[:,:]\n",
    "y_train = np.reshape(y_train,-1)\n",
    "X_val = val_data[:,:]\n",
    "y_val = val_data[:,:]\n",
    "y_val = np.reshape(y_val,-1)\n",
    "X_test = test_data\n",
    "\n",
    "tf.reset_default_graph()\n",
    "session = tf.Session()\n",
    "\n",
    "total_loss, total_correct, sess, y_out, cost_op, _ = logisticRegression(session = session, Xd = X_train, yd = y_train,\n",
    "                   epochs = 8000, batch_size = 150, print_every = 1000, \n",
    "                   plot_losses = True, learning_rate = 0.0000000000001, rl = 0.001, training = True)\n",
    "\n",
    "print('Validación')\n",
    "# run_model(session,y_out,cost_op,X_val,y_val,1,100)\n",
    "logisticRegression(session = session, Xd = X_val, yd = y_val,\n",
    "                   epochs = 8000, batch_size = 150, training = False)"
   ]
  },
  {
   "cell_type": "code",
   "execution_count": 76,
   "metadata": {},
   "outputs": [],
   "source": [
    "def getMetrics(Y, y_hat):\n",
    "    accuracy = metrics.accuracy_score(Y, y_hat)\n",
    "    f1 = metrics.f1_score(Y, y_hat)\n",
    "    recall = metrics.recall_score(Y, y_hat)\n",
    "    precision = metrics.precision_score(Y, y_hat)\n",
    "    error = metrics.mean_squared_error(Y, y_hat)\n",
    "    return (accuracy, f1, recall, precision, error)\n",
    "\n",
    "def printMetrics(Y, y_hat):\n",
    "    accuracy, f1, recall, precision, error = getMetrics(Y, y_hat)\n",
    "    print('Accuracy ', accuracy)\n",
    "    print('F1 ', f1)\n",
    "    print('Recall ', recall)\n",
    "    print('Precision ', precision)\n",
    "    print('MSE ', error)\n",
    "#     print(metrics.confusion_matrix(Y, y_hat))"
   ]
  },
  {
   "cell_type": "markdown",
   "metadata": {},
   "source": [
    "#### Entrenamiento del Modelo"
   ]
  },
  {
   "cell_type": "code",
   "execution_count": 77,
   "metadata": {},
   "outputs": [
    {
     "data": {
      "text/plain": [
       "['PassengerId',\n",
       " 'Age',\n",
       " 'SibSp',\n",
       " 'Parch',\n",
       " 'Ticket',\n",
       " 'Fare',\n",
       " 'Embarked',\n",
       " 'passenger_class',\n",
       " 'passenger_sex',\n",
       " 'passenger_survived']"
      ]
     },
     "execution_count": 77,
     "metadata": {},
     "output_type": "execute_result"
    }
   ],
   "source": [
    "list(entrena.columns)"
   ]
  },
  {
   "cell_type": "code",
   "execution_count": 78,
   "metadata": {},
   "outputs": [
    {
     "name": "stdout",
     "output_type": "stream",
     "text": [
      "Accuracy  0.7835820895522388\n",
      "F1  0.7314814814814815\n",
      "Recall  0.7117117117117117\n",
      "Precision  0.7523809523809524\n",
      "MSE  0.21641791044776118\n"
     ]
    }
   ],
   "source": [
    "features = ['Ticket', 'passenger_sex', 'passenger_class', 'Fare', 'Embarked']\n",
    "to_predict = ['passenger_survived']\n",
    "tree_model = decision_tree(entrena[features], entrena[to_predict])\n",
    "printMetrics(prueba[to_predict], tree_model.predict(prueba[features]))"
   ]
  },
  {
   "cell_type": "code",
   "execution_count": 79,
   "metadata": {},
   "outputs": [
    {
     "name": "stdout",
     "output_type": "stream",
     "text": [
      "Accuracy  0.6343283582089553\n",
      "F1  0.2686567164179105\n",
      "Recall  0.16216216216216217\n",
      "Precision  0.782608695652174\n",
      "MSE  0.3656716417910448\n"
     ]
    },
    {
     "name": "stderr",
     "output_type": "stream",
     "text": [
      "C:\\Users\\diego\\AppData\\Local\\Continuum\\anaconda3\\lib\\site-packages\\sklearn\\utils\\validation.py:760: DataConversionWarning: A column-vector y was passed when a 1d array was expected. Please change the shape of y to (n_samples, ), for example using ravel().\n",
      "  y = column_or_1d(y, warn=True)\n"
     ]
    }
   ],
   "source": [
    "features = ['passenger_sex', 'passenger_class', 'Fare', 'Embarked', 'Age']\n",
    "svc_model = svm(entrena[features], entrena[to_predict], 'poly', 3, 1.2)\n",
    "printMetrics(prueba[to_predict], svc_model.predict(prueba[features]))"
   ]
  },
  {
   "cell_type": "code",
   "execution_count": 80,
   "metadata": {},
   "outputs": [
    {
     "name": "stdout",
     "output_type": "stream",
     "text": [
      "Accuracy  0.7947761194029851\n",
      "F1  0.7577092511013217\n",
      "Recall  0.7747747747747747\n",
      "Precision  0.7413793103448276\n",
      "MSE  0.20522388059701493\n"
     ]
    },
    {
     "name": "stderr",
     "output_type": "stream",
     "text": [
      "C:\\Users\\diego\\AppData\\Local\\Continuum\\anaconda3\\lib\\site-packages\\sklearn\\naive_bayes.py:206: DataConversionWarning: A column-vector y was passed when a 1d array was expected. Please change the shape of y to (n_samples, ), for example using ravel().\n",
      "  y = column_or_1d(y, warn=True)\n"
     ]
    }
   ],
   "source": [
    "features = ['Ticket', 'Parch', 'SibSp','passenger_sex', 'passenger_class', 'Fare', 'Embarked', 'Age']\n",
    "nb_model = naive_bayes_scikit(entrena[features], entrena[to_predict])\n",
    "printMetrics(prueba[to_predict], nb_model.predict(prueba[features]))"
   ]
  },
  {
   "cell_type": "code",
   "execution_count": 81,
   "metadata": {},
   "outputs": [
    {
     "name": "stdout",
     "output_type": "stream",
     "text": [
      "Accuracy  0.7947761194029851\n",
      "F1  0.7577092511013217\n",
      "Recall  0.7747747747747747\n",
      "Precision  0.7413793103448276\n",
      "MSE  0.20522388059701493\n"
     ]
    }
   ],
   "source": [
    "X_train = np.array(entrena[features])\n",
    "y_train = np.array(entrena['passenger_survived'])\n",
    "x_test = np.array(prueba[features])\n",
    "\n",
    "predictions = naive_bayes(X_train, y_train, x_test)\n",
    "printMetrics(prueba[to_predict], predictions)"
   ]
  },
  {
   "cell_type": "code",
   "execution_count": 82,
   "metadata": {},
   "outputs": [
    {
     "name": "stdout",
     "output_type": "stream",
     "text": [
      "Training\n",
      "ITERACION 0: con una pérdida de entrenamiento en minbatch = 6.32 y accuracy de 0.17\n",
      "EPOCH 1, Pérdida General = 7.38 y accuracy de 0.189\n"
     ]
    },
    {
     "name": "stderr",
     "output_type": "stream",
     "text": [
      "C:\\Users\\diego\\AppData\\Local\\Continuum\\anaconda3\\lib\\site-packages\\ipykernel_launcher.py:4: FutureWarning: Method .as_matrix will be removed in a future version. Use .values instead.\n",
      "  after removing the cwd from sys.path.\n",
      "C:\\Users\\diego\\AppData\\Local\\Continuum\\anaconda3\\lib\\site-packages\\ipykernel_launcher.py:5: FutureWarning: Method .as_matrix will be removed in a future version. Use .values instead.\n",
      "  \"\"\"\n",
      "C:\\Users\\diego\\AppData\\Local\\Continuum\\anaconda3\\lib\\site-packages\\ipykernel_launcher.py:6: FutureWarning: Method .as_matrix will be removed in a future version. Use .values instead.\n",
      "  \n"
     ]
    },
    {
     "name": "stdout",
     "output_type": "stream",
     "text": [
      "ITERACION 1000: con una pérdida de entrenamiento en minbatch = 1.21 y accuracy de 0.3\n",
      "ITERACION 2000: con una pérdida de entrenamiento en minbatch = 0.999 y accuracy de 0.17\n",
      "ITERACION 3000: con una pérdida de entrenamiento en minbatch = 0.812 y accuracy de 0.2\n",
      "ITERACION 4000: con una pérdida de entrenamiento en minbatch = 0.737 y accuracy de 0.15\n",
      "ITERACION 5000: con una pérdida de entrenamiento en minbatch = 0.701 y accuracy de 0.17\n",
      "ITERACION 6000: con una pérdida de entrenamiento en minbatch = 0.638 y accuracy de 0.3\n",
      "ITERACION 7000: con una pérdida de entrenamiento en minbatch = 0.648 y accuracy de 0.28\n",
      "ITERACION 8000: con una pérdida de entrenamiento en minbatch = 0.615 y accuracy de 0.35\n",
      "ITERACION 9000: con una pérdida de entrenamiento en minbatch = 0.646 y accuracy de 0.2\n",
      "ITERACION 10000: con una pérdida de entrenamiento en minbatch = 0.571 y accuracy de 0.2\n",
      "ITERACION 11000: con una pérdida de entrenamiento en minbatch = 0.574 y accuracy de 0.2\n",
      "ITERACION 12000: con una pérdida de entrenamiento en minbatch = 0.593 y accuracy de 0.15\n",
      "ITERACION 13000: con una pérdida de entrenamiento en minbatch = 0.559 y accuracy de 0.33\n",
      "ITERACION 14000: con una pérdida de entrenamiento en minbatch = 0.585 y accuracy de 0.33\n",
      "EPOCH 1001, Pérdida General = 0.573 y accuracy de 0.225\n",
      "ITERACION 15000: con una pérdida de entrenamiento en minbatch = 0.588 y accuracy de 0.3\n",
      "ITERACION 16000: con una pérdida de entrenamiento en minbatch = 0.616 y accuracy de 0.2\n",
      "ITERACION 17000: con una pérdida de entrenamiento en minbatch = 0.549 y accuracy de 0.2\n",
      "ITERACION 18000: con una pérdida de entrenamiento en minbatch = 0.56 y accuracy de 0.17\n",
      "ITERACION 19000: con una pérdida de entrenamiento en minbatch = 0.584 y accuracy de 0.15\n",
      "ITERACION 20000: con una pérdida de entrenamiento en minbatch = 0.551 y accuracy de 0.33\n",
      "ITERACION 21000: con una pérdida de entrenamiento en minbatch = 0.577 y accuracy de 0.33\n",
      "ITERACION 22000: con una pérdida de entrenamiento en minbatch = 0.587 y accuracy de 0.28\n",
      "ITERACION 23000: con una pérdida de entrenamiento en minbatch = 0.611 y accuracy de 0.2\n"
     ]
    },
    {
     "data": {
      "image/png": "[encoded data removed]",
      "text/plain": [
       "<Figure size 432x288 with 1 Axes>"
      ]
     },
     "metadata": {
      "needs_background": "light"
     },
     "output_type": "display_data"
    },
    {
     "name": "stdout",
     "output_type": "stream",
     "text": [
      "0.567174568772316\n",
      "0.21785714285714286\n"
     ]
    }
   ],
   "source": [
    "features = ['passenger_sex', 'passenger_class', 'Fare', 'Embarked', 'Age']\n",
    "print('Training')\n",
    "\n",
    "train_data = entrena[features].as_matrix()\n",
    "test_data = prueba[features].as_matrix()\n",
    "val_data = valida[features].as_matrix()\n",
    "\n",
    "X_train = train_data[:,:]\n",
    "y_train = train_data[:,:]\n",
    "y_train = np.reshape(y_train,-1)\n",
    "X_val = val_data[:,:]\n",
    "y_val = val_data[:,:]\n",
    "y_val = np.reshape(y_val,-1)\n",
    "X_test = test_data\n",
    "\n",
    "tf.reset_default_graph()\n",
    "session = tf.Session()\n",
    "\n",
    "total_loss, total_correct, sess, y_out, cost_op, _ = logisticRegression(session = session, Xd = X_train, yd = y_train,\n",
    "                   epochs = 1700, batch_size = 40, print_every = 1000, \n",
    "                   plot_losses = True, learning_rate = 0.0001, rl = 1.8, training = True)\n",
    "print(total_loss)\n",
    "print(total_correct)\n",
    "\n",
    "# print('Validation')\n",
    "# run_model(session,y_out,cost_op,X_val,y_val,1,100)\n",
    "# logisticRegression(session = session, Xd = X_val, yd = y_val,\n",
    "#                    epochs = 8000, batch_size = 150, training = False)"
   ]
  },
  {
   "cell_type": "markdown",
   "metadata": {},
   "source": [
    "### K - Fold\n",
    "\n",
    "Este es un tipo común de validación cruzada que es ampliamente usada en machine learning.\n",
    "\n",
    "#### Validación Cruzada (Cross Validation)\n",
    "\n",
    "La validación cruzada es una técnica muy usada para evaluar el rendimiento de los modelos de machine learning. Ayuda en conocer como el modelo de machine learning se generalizaría a un set de datos independiente. Se puede usar esta técnica para estimar que tan exactas serán las predicciones del modelo en la práctica.\n",
    "\n",
    "Cuando se da un problema de machine learning, se tienen dos tipos de datasets, como se ve en este problema existen datos conocidos (datos de entrenamiento) y datos desconocidos (datos de prueba). Usando validación cruzada, se estará probando el modelo de machine learning en la fase de entrenamiento, para verificar si hay overfitting y obtener una idea de cómo el modelo de machine learning se generalizará ocn datos independientes, que se dan en el conjunto de datos de prueba.\n",
    "\n",
    "En una ronda de validación cruzada, se tendrá que dividir el set de entrenamiento de datos original en dos partes: \n",
    "\n",
    "* Set de entrenamiento del conjunto de datos\n",
    "* Set de validación prueba o set de validación\n",
    "\n",
    "Se entrenará el modelo de machine learning en la validación cruzada usando el set de entrenamiento y se probará con el set de validación. Se podrá saber que tan exactas son las predicciones del modelo de machine learning cuando se compare con las predicciones del set de validación y las etiquetas actuales del los puntos de datos en el set de validación.\n",
    "\n",
    "Para reducir la varianza, muchas rondas de validación cruzada se realizan usando diferentes sets de entrenamiento y de pruebas. El resultado de todas las pruebas se promedia para estimar la exactitud del modelo de machine learning.\n",
    "\n",
    "#### Implementando la validación K-Fold\n",
    "\n",
    "Se debe realizar siguiendo los siguientes pasos:\n",
    "1. Particionar el set de datos de entrenamiento en __k__ subgrupos iguales. Cada subgrupo es llamado **fold**. Los folds serán llamados $f_1, f_2, ..., f_k$\n",
    "2. Se realiza un ciclo for que va desde i= 1 hasta k\n",
    "    a. Se mantiene el fold "
   ]
  }
 ],
 "metadata": {
  "kernelspec": {
   "display_name": "Python 3",
   "language": "python",
   "name": "python3"
  },
  "language_info": {
   "codemirror_mode": {
    "name": "ipython",
    "version": 3
   },
   "file_extension": ".py",
   "mimetype": "text/x-python",
   "name": "python",
   "nbconvert_exporter": "python",
   "pygments_lexer": "ipython3",
   "version": "3.7.4"
  }
 },
 "nbformat": 4,
 "nbformat_minor": 2
}
